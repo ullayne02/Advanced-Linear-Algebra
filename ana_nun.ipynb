{
 "cells": [
  {
   "cell_type": "markdown",
   "metadata": {},
   "source": [
    "## Projeto 1 - Analise de Erro Numerico \n",
    "\n",
    "O projeto consiste em dada uma matriz de entrada e a precisão dos termos observar a diferenca no cálculo dos autovetores e autovalores entre a matriz com a precisao setada pelo usuario e com a capacidade maxima de entrada. "
   ]
  },
  {
   "cell_type": "markdown",
   "metadata": {},
   "source": [
    "### Imports\n",
    "Biblioteca auxiliares utilizadas"
   ]
  },
  {
   "cell_type": "code",
   "execution_count": 159,
   "metadata": {},
   "outputs": [],
   "source": [
    "import matplotlib\n",
    "import matplotlib.pyplot as plt\n",
    "import seaborn as sns\n",
    "matplotlib.style.use('ggplot')\n",
    "import numpy as np \n",
    "from numpy import linalg as LA\n",
    "from numpy.linalg import inv"
   ]
  },
  {
   "cell_type": "markdown",
   "metadata": {},
   "source": [
    "### Entrada do Usurario \n",
    "Nesta celula, o usuario pode alterar a matriz de entrada e sua precisão "
   ]
  },
  {
   "cell_type": "code",
   "execution_count": 252,
   "metadata": {},
   "outputs": [
    {
     "name": "stdout",
     "output_type": "stream",
     "text": [
      "[1.0, 2.0, 3.0, 4.0, 5.0, 6.0, 7.0, 8.0, 9.0, 10.0]\n",
      "[2.0, 1.0, 1.5, 2.0, 2.5, 3.0, 3.5, 4.0, 4.5, 5.0]\n",
      "[3.0, 1.5, 1.0, 1.3333333333333333, 1.6666666666666667, 2.0, 2.3333333333333335, 2.6666666666666665, 3.0, 3.3333333333333335]\n",
      "[4.0, 2.0, 1.3333333333333333, 1.0, 1.25, 1.5, 1.75, 2.0, 2.25, 2.5]\n",
      "[5.0, 2.5, 1.6666666666666667, 1.25, 1.0, 1.2, 1.4, 1.6, 1.8, 2.0]\n",
      "[6.0, 3.0, 2.0, 1.5, 1.2, 1.0, 1.1666666666666667, 1.3333333333333333, 1.5, 1.6666666666666667]\n",
      "[7.0, 3.5, 2.3333333333333335, 1.75, 1.4, 1.1666666666666667, 1.0, 1.1428571428571428, 1.2857142857142858, 1.4285714285714286]\n",
      "[8.0, 4.0, 2.6666666666666665, 2.0, 1.6, 1.3333333333333333, 1.1428571428571428, 1.0, 1.125, 1.25]\n",
      "[9.0, 4.5, 3.0, 2.25, 1.8, 1.5, 1.2857142857142858, 1.125, 1.0, 1.1111111111111112]\n",
      "[10.0, 5.0, 3.3333333333333335, 2.5, 2.0, 1.6666666666666667, 1.4285714285714286, 1.25, 1.1111111111111112, 1.0]\n",
      "[1.0, 2.0, 3.0, 4.0, 5.0, 6.0, 7.0, 8.0, 9.0, 10.0]\n",
      "[2.0, 1.0, 1.5, 2.0, 2.5, 3.0, 3.5, 4.0, 4.5, 5.0]\n",
      "[3.0, 1.5, 1.0, 1.3333333333333333, 1.6666666666666667, 2.0, 2.3333333333333335, 2.6666666666666665, 3.0, 3.3333333333333335]\n",
      "[4.0, 2.0, 1.3333333333333333, 1.0, 1.25, 1.5, 1.75, 2.0, 2.25, 2.5]\n",
      "[5.0, 2.5, 1.6666666666666667, 1.25, 1.0, 1.2, 1.4, 1.6, 1.8, 2.0]\n",
      "[6.0, 3.0, 2.0, 1.5, 1.2, 1.0, 1.1666666666666667, 1.3333333333333333, 1.5, 1.6666666666666667]\n",
      "[7.0, 3.5, 2.3333333333333335, 1.75, 1.4, 1.1666666666666667, 1.0, 1.1428571428571428, 1.2857142857142858, 1.4285714285714286]\n",
      "[8.0, 4.0, 2.6666666666666665, 2.0, 1.6, 1.3333333333333333, 1.1428571428571428, 1.0, 1.125, 1.25]\n",
      "[9.0, 4.5, 3.0, 2.25, 1.8, 1.5, 1.2857142857142858, 1.125, 1.0, 1.1111111111111112]\n",
      "[10.0, 5.0, 3.3333333333333335, 2.5, 2.0, 1.6666666666666667, 1.4285714285714286, 1.25, 1.1111111111111112, 1.0]\n"
     ]
    }
   ],
   "source": [
    "## Entrada do usuario \n",
    "precision = 16\n",
    "#matrix = [[1,2,3], [1/3,2/15, 1/10], [3/25, 1/7, 100]] # ler uma imagem\n",
    "matrix = [[0] * 10 for _ in range(10)]\n",
    "matrix_low_precision = []\n",
    "for i in range(0, 10):\n",
    "    for j in range(i, 10):\n",
    "        matrix[i][j] = (j+1)/(i+1)\n",
    "        matrix[j][i] = (j+1)/(i+1)\n",
    "\n",
    "for line in matrix: \n",
    "    aux = []\n",
    "    for x in line: \n",
    "        aux.append(round(x, precision))\n",
    "    matrix_low_precision.append(aux)\n",
    "\n",
    "## Matriz com a precisao baixa \n",
    "\n",
    "for i in matrix_low_precision: \n",
    "    print(i)\n",
    "    \n",
    "for i in matrix: \n",
    "    print(i)\n"
   ]
  },
  {
   "cell_type": "markdown",
   "metadata": {},
   "source": [
    "### Calculo dos Autovetores e Autovalores das matrizes"
   ]
  },
  {
   "cell_type": "code",
   "execution_count": 248,
   "metadata": {},
   "outputs": [
    {
     "name": "stdout",
     "output_type": "stream",
     "text": [
      "Autovalor e Autovetor da Matriz com Precisao baixa\n",
      "[-16.53569211  -1.43934617  -0.62512414  -0.36418024  -0.24116227\n",
      "  -0.16968059  -0.123442    -0.09131068  -0.06708288  29.65702107]\n",
      "[[-6.74308790e-01  3.72525668e-01  2.81437627e-01  1.63916929e-01\n",
      "   6.46708073e-02  1.60957626e-02 -2.40070602e-03 -1.87331477e-04\n",
      "  -5.13513535e-06  5.44067275e-01]\n",
      " [-2.75985913e-01 -2.01961010e-01 -5.34597363e-01 -5.93189083e-01\n",
      "  -3.69909155e-01 -1.34240898e-01  2.79717208e-02  2.98370941e-03\n",
      "   1.12256104e-04  2.99551604e-01]\n",
      " [-1.02117033e-01 -4.49071825e-01 -3.94094611e-01  2.11738177e-01\n",
      "   5.84672147e-01  4.11689759e-01 -1.37770514e-01 -2.18219350e-02\n",
      "  -1.19207614e-03  2.38693695e-01]\n",
      " [ 1.29818858e-02 -4.84958271e-01  3.25964507e-02  4.57205011e-01\n",
      "  -1.02883042e-01 -5.80309971e-01  3.83476562e-01  9.80401713e-02\n",
      "   8.14163313e-03  2.24657470e-01]\n",
      " [ 1.02161015e-01 -3.88735700e-01  3.40155997e-01  1.07744902e-01\n",
      "  -4.47185787e-01  1.60278772e-01 -5.90445187e-01 -2.87056961e-01\n",
      "  -3.88078888e-02  2.30075929e-01]\n",
      " [ 1.76343887e-01 -2.25701151e-01  4.03839885e-01 -2.81490347e-01\n",
      "  -6.43833460e-02  4.23307637e-01  3.47952971e-01  5.41232820e-01\n",
      "   1.33618691e-01  2.45856861e-01]\n",
      " [ 2.40245255e-01 -4.54011075e-02  2.68131178e-01 -3.78132918e-01\n",
      "   3.39723175e-01 -1.15839034e-01  2.76672646e-01 -5.80167830e-01\n",
      "  -3.33879170e-01  2.68130272e-01]\n",
      " [ 2.96272950e-01  1.18203661e-01  4.09567770e-02 -1.90918261e-01\n",
      "   3.18635871e-01 -4.01772877e-01 -3.80044394e-01  1.40137177e-01\n",
      "   5.88290197e-01  2.94983398e-01]\n",
      " [ 3.45819109e-01  2.44779208e-01 -1.74155971e-01  9.50587305e-02\n",
      "  -7.19368722e-03 -1.00702144e-01 -2.37636580e-01  4.14782162e-01\n",
      "  -6.60719665e-01  3.25372534e-01]\n",
      " [ 3.89772594e-01  3.24930252e-01 -3.09726634e-01  2.96769686e-01\n",
      "  -2.92310993e-01  2.92596137e-01  2.93304286e-01 -2.93753204e-01\n",
      "   2.94042756e-01  3.58688047e-01]] \n",
      "\n",
      "Autovalor e Autovetor da Matriz original\n",
      "[ -1.43934617  -0.62512414  -0.36418024  -0.24116227  -0.16968059\n",
      "  -0.123442    -0.09131068  -0.06708288  29.65702107 -16.53569211]\n",
      "[[-6.74308790e-01  3.72525668e-01  2.81437627e-01  1.63916929e-01\n",
      "   6.46708073e-02  1.60957626e-02 -2.40070601e-03 -1.87331480e-04\n",
      "  -5.13513701e-06  5.44067275e-01]\n",
      " [-2.75985913e-01 -2.01961010e-01 -5.34597363e-01 -5.93189083e-01\n",
      "  -3.69909155e-01 -1.34240898e-01  2.79717207e-02  2.98370945e-03\n",
      "   1.12256140e-04  2.99551604e-01]\n",
      " [-1.02117033e-01 -4.49071825e-01 -3.94094611e-01  2.11738177e-01\n",
      "   5.84672147e-01  4.11689759e-01 -1.37770513e-01 -2.18219351e-02\n",
      "  -1.19207624e-03  2.38693695e-01]\n",
      " [ 1.29818858e-02 -4.84958271e-01  3.25964507e-02  4.57205011e-01\n",
      "  -1.02883042e-01 -5.80309971e-01  3.83476561e-01  9.80401713e-02\n",
      "   8.14163326e-03  2.24657470e-01]\n",
      " [ 1.02161015e-01 -3.88735700e-01  3.40155997e-01  1.07744902e-01\n",
      "  -4.47185787e-01  1.60278772e-01 -5.90445187e-01 -2.87056961e-01\n",
      "  -3.88078891e-02  2.30075929e-01]\n",
      " [ 1.76343887e-01 -2.25701151e-01  4.03839885e-01 -2.81490347e-01\n",
      "  -6.43833461e-02  4.23307637e-01  3.47952971e-01  5.41232819e-01\n",
      "   1.33618692e-01  2.45856861e-01]\n",
      " [ 2.40245255e-01 -4.54011075e-02  2.68131178e-01 -3.78132918e-01\n",
      "   3.39723175e-01 -1.15839034e-01  2.76672646e-01 -5.80167830e-01\n",
      "  -3.33879171e-01  2.68130272e-01]\n",
      " [ 2.96272950e-01  1.18203661e-01  4.09567769e-02 -1.90918261e-01\n",
      "   3.18635872e-01 -4.01772877e-01 -3.80044393e-01  1.40137176e-01\n",
      "   5.88290197e-01  2.94983398e-01]\n",
      " [ 3.45819109e-01  2.44779208e-01 -1.74155971e-01  9.50587306e-02\n",
      "  -7.19368719e-03 -1.00702144e-01 -2.37636580e-01  4.14782163e-01\n",
      "  -6.60719664e-01  3.25372534e-01]\n",
      " [ 3.89772594e-01  3.24930252e-01 -3.09726634e-01  2.96769686e-01\n",
      "  -2.92310993e-01  2.92596137e-01  2.93304286e-01 -2.93753204e-01\n",
      "   2.94042755e-01  3.58688047e-01]]\n"
     ]
    }
   ],
   "source": [
    "# Calculo dos autovetores e valores das matrizes \n",
    "\n",
    "eingV1, eingVec1 = LA.eig(matrix_low_precision)\n",
    "order = np.argsort(eingV1)\n",
    "eingV1 = eingV1[order]\n",
    "eingVec1 = eingVec1[:,order]\n",
    "eingV2, eingVec2 = LA.eig(matrix)\n",
    "order = np.argsort(eingV2)\n",
    "eingV2 = eingV1[order]\n",
    "eingVec2 = eingVec2[:,order]\n",
    "'''\n",
    "eingV1 = [float(x) for x in eingV1]\n",
    "eingV2 = [float(x) for x in eingV2]\n",
    "aux = []\n",
    "for x in eingVec2:\n",
    "    x = [float(y) for y in x]\n",
    "    aux.append(x)\n",
    "eingVec2 = x\n",
    "aux = []\n",
    "for x in eingVec1:\n",
    "    x = [float(y) for y in x]\n",
    "    aux.append(x)\n",
    "eingVec1 = aux \n",
    "'''\n",
    "print('Autovalor e Autovetor da Matriz com Precisao baixa')\n",
    "print(eingV1)\n",
    "print(eingVec1,'\\n')\n",
    "print('Autovalor e Autovetor da Matriz original')\n",
    "print(eingV2)\n",
    "print(eingVec2)\n"
   ]
  },
  {
   "cell_type": "markdown",
   "metadata": {},
   "source": [
    "### Analise de Erro \n",
    "Para observar a diferenca entre os valores do autovetor e dos autovalores de ambas as matrizes \n",
    "Sera plotado em um grafico os autovalores e para os autovetores sera plotado em outro grafico o angulo entre eles. "
   ]
  },
  {
   "cell_type": "code",
   "execution_count": 253,
   "metadata": {},
   "outputs": [],
   "source": [
    "# Funcao de calculo de angulo entre os vetores\n",
    "def cos (vec1, vec2):\n",
    "    norm_vec1 = LA.norm(np.array(vec1))\n",
    "    norm_vec2 = LA.norm(np.array(vec2))\n",
    "    vec1 = np.array([x/norm_vec1 for x in vec1])\n",
    "    vec2 = np.array([x/norm_vec2 for x in vec2])\n",
    "    return np.inner(vec1,vec2)"
   ]
  },
  {
   "cell_type": "markdown",
   "metadata": {},
   "source": [
    "#### Visualização do Erro\n",
    "Grafico com os autovalores e a diferenca entre eles"
   ]
  },
  {
   "cell_type": "code",
   "execution_count": 254,
   "metadata": {},
   "outputs": [
    {
     "data": {
      "image/png": "[encoded data removed]",
      "text/plain": [
       "<Figure size 432x288 with 1 Axes>"
      ]
     },
     "metadata": {
      "needs_background": "light"
     },
     "output_type": "display_data"
    }
   ],
   "source": [
    "% matplotlib inline\n",
    "x = [i for i in range(0, len(eingV1))]\n",
    "eingVdiff = [abs(eingV1[i]-eingV2[i]) for i in range(len(eingV1))]\n",
    "plt.scatter(x,eingV1, c=\"hotpink\", label=\"first\")\n",
    "plt.scatter(x,eingV2, c=\"navy\", label=\"second\")\n",
    "plt.autoscale(enable=True, axis='y', tight=None)\n",
    "plt.show()\n"
   ]
  },
  {
   "cell_type": "code",
   "execution_count": 255,
   "metadata": {},
   "outputs": [
    {
     "data": {
      "image/png": "[encoded data removed]",
      "text/plain": [
       "<Figure size 432x288 with 1 Axes>"
      ]
     },
     "metadata": {
      "needs_background": "light"
     },
     "output_type": "display_data"
    },
    {
     "name": "stdout",
     "output_type": "stream",
     "text": [
      "[15.09634594513085, 0.8142220311336343, 0.26094389821430036, 0.12301796678651808, 0.07148168123040097, 0.04623859288666138, 0.03213131678504334, 0.024227795694934065, 29.724103953495113, 46.192713181357455]\n"
     ]
    }
   ],
   "source": [
    "x = [i for i in range(len(eingV1))]\n",
    "eingVdiff = [abs(eingV1[i]-eingV2[i]) for i in range(len(eingV1))]\n",
    "plt.scatter(x,eingVdiff, c=\"navy\", label=\"first\")\n",
    "plt.autoscale(enable=True, axis='y', tight=None)\n",
    "plt.show()\n",
    "print(eingVdiff)"
   ]
  },
  {
   "cell_type": "markdown",
   "metadata": {},
   "source": [
    "### Angulo entre os autovetores das matrizes. "
   ]
  },
  {
   "cell_type": "code",
   "execution_count": 258,
   "metadata": {},
   "outputs": [
    {
     "name": "stdout",
     "output_type": "stream",
     "text": [
      "1.0\n",
      "1.0000000000000002\n",
      "1.0000000000000002\n",
      "1.0000000000000002\n",
      "1.0\n",
      "1.0\n",
      "1.0000000000000002\n",
      "1.0000000000000002\n",
      "1.0000000000000002\n",
      "1.0\n"
     ]
    },
    {
     "name": "stderr",
     "output_type": "stream",
     "text": [
      "/anaconda3/lib/python3.7/site-packages/ipykernel_launcher.py:5: RuntimeWarning: invalid value encountered in arccos\n",
      "  \"\"\"\n"
     ]
    }
   ],
   "source": [
    "ang_list = []\n",
    "for x, y in zip(eingVec1.T, eingVec2.T): \n",
    "    cosine = cos(x, y)\n",
    "    print(cosine)\n",
    "    ang_list.append(np.arccos(cosine))\n"
   ]
  },
  {
   "cell_type": "code",
   "execution_count": 257,
   "metadata": {},
   "outputs": [
    {
     "data": {
      "image/png": "[encoded data removed]",
      "text/plain": [
       "<Figure size 432x288 with 1 Axes>"
      ]
     },
     "metadata": {
      "needs_background": "light"
     },
     "output_type": "display_data"
    }
   ],
   "source": [
    "plt.scatter(x,ang_list, c=\"hotpink\", label=\"first\")\n",
    "plt.autoscale(enable=True, axis='y', tight=None)\n",
    "plt.show()"
   ]
  },
  {
   "cell_type": "code",
   "execution_count": null,
   "metadata": {},
   "outputs": [],
   "source": []
  }
 ],
 "metadata": {
  "kernelspec": {
   "display_name": "Python 3",
   "language": "python",
   "name": "python3"
  },
  "language_info": {
   "codemirror_mode": {
    "name": "ipython",
    "version": 3
   },
   "file_extension": ".py",
   "mimetype": "text/x-python",
   "name": "python",
   "nbconvert_exporter": "python",
   "pygments_lexer": "ipython3",
   "version": "3.7.0"
  }
 },
 "nbformat": 4,
 "nbformat_minor": 2
}
