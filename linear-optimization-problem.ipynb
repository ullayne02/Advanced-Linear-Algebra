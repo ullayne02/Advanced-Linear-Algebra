{
 "cells": [
  {
   "cell_type": "markdown",
   "metadata": {},
   "source": [
    "# Investimento na Bolsa de Valores \n",
    "\n",
    "\n",
    "Um investidor dispõe de € 50.000 para investir entre quatro possibilidades: bolsa X, bolsa Y, títulos X e títulos Y, pelo período de um ano. Pode ser investido no máximo em títulos X o valor de € 10.500 e, no máximo € 10.000 em títulos Y. O investimento na bolsa X implica um risco considerável, de modo que se decide não investir mais do que um quarto dos investimentos totais. O valor investido na bolsa Y deve ser pelo menos três vezes o valor investido na bolsa X. Além disto, o investidor requer que o investimento em títulos seja pelo menos a metade do valor investido nas bolsas. Os rendimentos líquidos anuais são estimados segundo é mostrado na tabela a seguir:\n",
    "\n",
    "| Bolsa X | Bolsa Y | Titulos X | Titulos Y |\n",
    "| --- | --- | --- | -- |\n",
    "| 20% | 10% | 9% | 11%"
   ]
  },
  {
   "cell_type": "markdown",
   "metadata": {},
   "source": [
    "## Definição do Problema \n",
    "<br>\n",
    "X1: investimento em bolsa de valores X \n",
    "<br>\n",
    "X2: investimento em bolsa de valores Y \n",
    "<br>\n",
    "X3: investimento em títulos X \n",
    "<br>\n",
    "X4: investimento em títulos Y "
   ]
  },
  {
   "cell_type": "markdown",
   "metadata": {},
   "source": [
    "### Restrições \n",
    "<br>\n",
    "X1 + X2 + X3 + X4 ≤ 50000\n",
    "<br>\n",
    "X1 ≤ 12500\n",
    "<br>\n",
    "X3 ≤ 10500\n",
    "<br>\n",
    "X4 ≤ 10000\n",
    "<br>\n",
    "3·X1 - X2 ≤ 0\n",
    "<br>\n",
    "0.5·X1 + 0.5·X2 - X3 - X4 ≤ 0\n",
    "<br>\n",
    "Xi ≥ 0"
   ]
  },
  {
   "cell_type": "markdown",
   "metadata": {},
   "source": [
    "### Função Objetivo \n",
    "Maximizar: \n",
    "<br>\n",
    "Z = 0.2·X1 + 0.1·X2 + 0.09·X3 + 0.11·X4"
   ]
  },
  {
   "cell_type": "code",
   "execution_count": 26,
   "metadata": {},
   "outputs": [],
   "source": [
    "from scipy.optimize import linprog_verbose_callback \n",
    "from scipy.optimize import linprog\n",
    "import numpy as np "
   ]
  },
  {
   "cell_type": "code",
   "execution_count": 35,
   "metadata": {},
   "outputs": [],
   "source": [
    "c = [-0.2, -0.1, -0.09, -0.11]\n",
    "\n",
    "A = [[1, 1, 1, 1], \n",
    "     [3, -1, 0, 0],\n",
    "     [0.5, 0.5, -1, -1]]\n",
    "\n",
    "b = [50000, 0, 0]\n",
    "\n",
    "bounds = [(0, 12500),(0, None),(0, 10500),(0,10000)]"
   ]
  },
  {
   "cell_type": "code",
   "execution_count": 38,
   "metadata": {},
   "outputs": [
    {
     "name": "stdout",
     "output_type": "stream",
     "text": [
      "--------- Initial Tableau - Phase 1 ----------\n",
      "\n",
      "[[      1.0000       1.0000       1.0000       1.0000       1.0000       0.0000       0.0000       0.0000       0.0000       0.0000   50000.0000]\n",
      " [      3.0000      -1.0000       0.0000       0.0000       0.0000       1.0000       0.0000       0.0000       0.0000       0.0000       0.0000]\n",
      " [      0.5000       0.5000      -1.0000      -1.0000       0.0000       0.0000       1.0000       0.0000       0.0000       0.0000       0.0000]\n",
      " [      1.0000       0.0000       0.0000       0.0000       0.0000       0.0000       0.0000       1.0000       0.0000       0.0000   12500.0000]\n",
      " [      0.0000       0.0000       1.0000       0.0000       0.0000       0.0000       0.0000       0.0000       1.0000       0.0000   10500.0000]\n",
      " [      0.0000       0.0000       0.0000       1.0000       0.0000       0.0000       0.0000       0.0000       0.0000       1.0000   10000.0000]\n",
      " [     -0.2000      -0.1000      -0.0900      -0.1100       0.0000       0.0000       0.0000       0.0000       0.0000       0.0000       0.0000]\n",
      " [      0.0000       0.0000       0.0000       0.0000       0.0000       0.0000       0.0000       0.0000       0.0000       0.0000       0.0000]]\n",
      "\n",
      "Pivot Element: T[nan, nan]\n",
      "\n",
      "Basic Variables: [4 5 6 7 8 9]\n",
      "\n",
      "Current Solution:\n",
      "x =  [      0.0000       0.0000       0.0000       0.0000]\n",
      "\n",
      "Current Objective Value:\n",
      "f =  -0.0\n",
      "\n",
      "--------- Initial Tableau - Phase 2 ----------\n",
      "\n",
      "[[      1.0000       1.0000       1.0000       1.0000       1.0000       0.0000       0.0000       0.0000       0.0000       0.0000   50000.0000]\n",
      " [      3.0000      -1.0000       0.0000       0.0000       0.0000       1.0000       0.0000       0.0000       0.0000       0.0000       0.0000]\n",
      " [      0.5000       0.5000      -1.0000      -1.0000       0.0000       0.0000       1.0000       0.0000       0.0000       0.0000       0.0000]\n",
      " [      1.0000       0.0000       0.0000       0.0000       0.0000       0.0000       0.0000       1.0000       0.0000       0.0000   12500.0000]\n",
      " [      0.0000       0.0000       1.0000       0.0000       0.0000       0.0000       0.0000       0.0000       1.0000       0.0000   10500.0000]\n",
      " [      0.0000       0.0000       0.0000       1.0000       0.0000       0.0000       0.0000       0.0000       0.0000       1.0000   10000.0000]\n",
      " [     -0.2000      -0.1000      -0.0900      -0.1100       0.0000       0.0000       0.0000       0.0000       0.0000       0.0000       0.0000]]\n",
      "\n",
      "Pivot Element: T[1, 0]\n",
      "\n",
      "Basic Variables: [4 5 6 7 8 9]\n",
      "\n",
      "Current Solution:\n",
      "x =  [      0.0000       0.0000       0.0000       0.0000]\n",
      "\n",
      "Current Objective Value:\n",
      "f =  -0.0\n",
      "\n",
      "--------- Iteration 1  - Phase 2 --------\n",
      "\n",
      "Tableau:\n",
      "[[      0.0000       1.3333       1.0000       1.0000       1.0000      -0.3333       0.0000       0.0000       0.0000       0.0000   50000.0000]\n",
      " [      1.0000      -0.3333       0.0000       0.0000       0.0000       0.3333       0.0000       0.0000       0.0000       0.0000       0.0000]\n",
      " [      0.0000       0.6667      -1.0000      -1.0000       0.0000      -0.1667       1.0000       0.0000       0.0000       0.0000       0.0000]\n",
      " [      0.0000       0.3333       0.0000       0.0000       0.0000      -0.3333       0.0000       1.0000       0.0000       0.0000   12500.0000]\n",
      " [      0.0000       0.0000       1.0000       0.0000       0.0000       0.0000       0.0000       0.0000       1.0000       0.0000   10500.0000]\n",
      " [      0.0000       0.0000       0.0000       1.0000       0.0000       0.0000       0.0000       0.0000       0.0000       1.0000   10000.0000]\n",
      " [      0.0000      -0.1667      -0.0900      -0.1100       0.0000       0.0667       0.0000       0.0000       0.0000       0.0000       0.0000]]\n",
      "\n",
      "Pivot Element: T[2, 1]\n",
      "\n",
      "Basic Variables: [4 0 6 7 8 9]\n",
      "\n",
      "Current Solution:\n",
      "x =  [      0.0000       0.0000       0.0000       0.0000]\n",
      "\n",
      "Current Objective Value:\n",
      "f =  -0.0\n",
      "\n",
      "--------- Iteration 2  - Phase 2 --------\n",
      "\n",
      "Tableau:\n",
      "[[      0.0000       0.0000       3.0000       3.0000       1.0000       0.0000      -2.0000       0.0000       0.0000       0.0000   50000.0000]\n",
      " [      1.0000       0.0000      -0.5000      -0.5000       0.0000       0.2500       0.5000       0.0000       0.0000       0.0000       0.0000]\n",
      " [      0.0000       1.0000      -1.5000      -1.5000       0.0000      -0.2500       1.5000       0.0000       0.0000       0.0000       0.0000]\n",
      " [      0.0000       0.0000       0.5000       0.5000       0.0000      -0.2500      -0.5000       1.0000       0.0000       0.0000   12500.0000]\n",
      " [      0.0000       0.0000       1.0000       0.0000       0.0000       0.0000       0.0000       0.0000       1.0000       0.0000   10500.0000]\n",
      " [      0.0000       0.0000       0.0000       1.0000       0.0000       0.0000       0.0000       0.0000       0.0000       1.0000   10000.0000]\n",
      " [      0.0000       0.0000      -0.3400      -0.3600       0.0000       0.0250       0.2500       0.0000       0.0000       0.0000       0.0000]]\n",
      "\n",
      "Pivot Element: T[5, 3]\n",
      "\n",
      "Basic Variables: [4 0 1 7 8 9]\n",
      "\n",
      "Current Solution:\n",
      "x =  [      0.0000       0.0000       0.0000       0.0000]\n",
      "\n",
      "Current Objective Value:\n",
      "f =  -0.0\n",
      "\n",
      "--------- Iteration 3  - Phase 2 --------\n",
      "\n",
      "Tableau:\n",
      "[[      0.0000       0.0000       3.0000       0.0000       1.0000       0.0000      -2.0000       0.0000       0.0000      -3.0000   20000.0000]\n",
      " [      1.0000       0.0000      -0.5000       0.0000       0.0000       0.2500       0.5000       0.0000       0.0000       0.5000    5000.0000]\n",
      " [      0.0000       1.0000      -1.5000       0.0000       0.0000      -0.2500       1.5000       0.0000       0.0000       1.5000   15000.0000]\n",
      " [      0.0000       0.0000       0.5000       0.0000       0.0000      -0.2500      -0.5000       1.0000       0.0000      -0.5000    7500.0000]\n",
      " [      0.0000       0.0000       1.0000       0.0000       0.0000       0.0000       0.0000       0.0000       1.0000       0.0000   10500.0000]\n",
      " [      0.0000       0.0000       0.0000       1.0000       0.0000       0.0000       0.0000       0.0000       0.0000       1.0000   10000.0000]\n",
      " [      0.0000       0.0000      -0.3400       0.0000       0.0000       0.0250       0.2500       0.0000       0.0000       0.3600    3600.0000]]\n",
      "\n",
      "Pivot Element: T[0, 2]\n",
      "\n",
      "Basic Variables: [4 0 1 7 8 3]\n",
      "\n",
      "Current Solution:\n",
      "x =  [   5000.0000   15000.0000       0.0000   10000.0000]\n",
      "\n",
      "Current Objective Value:\n",
      "f =  -3600.0\n",
      "\n",
      "--------- Iteration Complete - Phase 2 -------\n",
      "\n",
      "Tableau:\n",
      "[[      0.0000       0.0000       1.0000       0.0000       0.3333       0.0000      -0.6667       0.0000       0.0000      -1.0000    6666.6667]\n",
      " [      1.0000       0.0000       0.0000       0.0000       0.1667       0.2500       0.1667       0.0000       0.0000       0.0000    8333.3333]\n",
      " [      0.0000       1.0000       0.0000       0.0000       0.5000      -0.2500       0.5000       0.0000       0.0000       0.0000   25000.0000]\n",
      " [      0.0000       0.0000       0.0000       0.0000      -0.1667      -0.2500      -0.1667       1.0000       0.0000       0.0000    4166.6667]\n",
      " [      0.0000       0.0000       0.0000       0.0000      -0.3333       0.0000       0.6667       0.0000       1.0000       1.0000    3833.3333]\n",
      " [      0.0000       0.0000       0.0000       1.0000       0.0000       0.0000       0.0000       0.0000       0.0000       1.0000   10000.0000]\n",
      " [      0.0000       0.0000       0.0000       0.0000       0.1133       0.0250       0.0233       0.0000       0.0000       0.0200    5866.6667]]\n",
      "\n",
      "Basic Variables: [2 0 1 7 8 3]\n",
      "\n",
      "Current Solution:\n",
      "x =  [   8333.3333   25000.0000    6666.6667   10000.0000]\n",
      "\n",
      "Current Objective Value:\n",
      "f =  -5866.666666666666\n",
      "\n"
     ]
    },
    {
     "data": {
      "text/plain": [
       "     fun: -5866.666666666666\n",
       " message: 'Optimization terminated successfully.'\n",
       "     nit: 4\n",
       "   slack: array([   0.        ,    0.        ,    0.        , 4166.66666667,\n",
       "       3833.33333333,    0.        ])\n",
       "  status: 0\n",
       " success: True\n",
       "       x: array([ 8333.33333333, 25000.        ,  6666.66666667, 10000.        ])"
      ]
     },
     "execution_count": 38,
     "metadata": {},
     "output_type": "execute_result"
    }
   ],
   "source": [
    "res = linprog(obj_func, coef_der, desi,  bounds=bounds ,method='simplex', callback=linprog_verbose_callback)\n",
    "res\n"
   ]
  },
  {
   "cell_type": "markdown",
   "metadata": {},
   "source": [
    "## Conclusão\n",
    "\n",
    "Utilizando o método, a melhor solução obtida foi investir: \n",
    "- 833.333 na bolsa X\n",
    "- 25.000 na bolsa Y\n",
    "- 6666.6666 no título X\n",
    "- 10.000 no título Y \n",
    "<br>\n",
    "E o lucro máximo seria: 3600.0"
   ]
  },
  {
   "cell_type": "code",
   "execution_count": null,
   "metadata": {},
   "outputs": [],
   "source": []
  }
 ],
 "metadata": {
  "kernelspec": {
   "display_name": "Python 3",
   "language": "python",
   "name": "python3"
  },
  "language_info": {
   "codemirror_mode": {
    "name": "ipython",
    "version": 3
   },
   "file_extension": ".py",
   "mimetype": "text/x-python",
   "name": "python",
   "nbconvert_exporter": "python",
   "pygments_lexer": "ipython3",
   "version": "3.6.6"
  }
 },
 "nbformat": 4,
 "nbformat_minor": 2
}
